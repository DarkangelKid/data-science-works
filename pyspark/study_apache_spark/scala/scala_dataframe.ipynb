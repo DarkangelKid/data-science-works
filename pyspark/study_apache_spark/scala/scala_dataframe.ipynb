{
 "cells": [
  {
   "cell_type": "code",
   "execution_count": 1,
   "metadata": {},
   "outputs": [
    {
     "name": "stdout",
     "output_type": "stream",
     "text": [
      "http://10.8.2.1:8089/proxy/application_1515394405830_3970\n"
     ]
    }
   ],
   "source": [
    "import org.apache.spark.sql.SparkSession\n",
    "\n",
    "val spark = SparkSession.builder().\n",
    "    appName(\"scala_dataframe\").\n",
    "    config(\"spark.executor.instances\",\"2\").\n",
    "    config(\"spark.executor.cores\",\"2\").\n",
    "    config(\"spark.executor.memory\", \"4g\").\n",
    "    config(\"spark.yarn.executor.memoryOverhead\", \"1g\").\n",
    "    getOrCreate()\n",
    "\n",
    "println(\"http://10.8.2.1:8089/proxy/\"+ spark.sparkContext.applicationId)"
   ]
  },
  {
   "cell_type": "code",
   "execution_count": 2,
   "metadata": {},
   "outputs": [
    {
     "data": {
      "text/plain": [
       "Array([Alice,1])"
      ]
     },
     "execution_count": 2,
     "metadata": {},
     "output_type": "execute_result"
    }
   ],
   "source": [
    "val l = Seq((\"Alice\", 1))\n",
    "spark.createDataFrame(l).collect()"
   ]
  },
  {
   "cell_type": "code",
   "execution_count": 3,
   "metadata": {},
   "outputs": [
    {
     "name": "stdout",
     "output_type": "stream",
     "text": [
      "[Stage 1:=======================================>                   (2 + 1) / 3]+------+-----+\n",
      "|number| word|\n",
      "+------+-----+\n",
      "|     8|  bat|\n",
      "|    64|mouse|\n",
      "|   -27|horse|\n",
      "+------+-----+\n",
      "\n"
     ]
    }
   ],
   "source": [
    "// For implicit conversions from RDDs to DataFrames\n",
    "import org.apache.spark.sql.Row\n",
    "import org.apache.spark.sql.types._\n",
    "\n",
    "val someData = Seq(\n",
    "  Row(8, \"bat\"),\n",
    "  Row(64, \"mouse\"),\n",
    "  Row(-27, \"horse\")\n",
    ")\n",
    "\n",
    "val someSchema = List(\n",
    "  StructField(\"number\", IntegerType, true),\n",
    "  StructField(\"word\", StringType, true)\n",
    ")\n",
    "\n",
    "val someDF = spark.createDataFrame(\n",
    "  spark.sparkContext.parallelize(someData),\n",
    "  StructType(someSchema)\n",
    ")\n",
    "someDF.show()"
   ]
  },
  {
   "cell_type": "code",
   "execution_count": 4,
   "metadata": {
    "scrolled": true
   },
   "outputs": [
    {
     "data": {
      "text/plain": [
       "Array([4])"
      ]
     },
     "execution_count": 4,
     "metadata": {},
     "output_type": "execute_result"
    }
   ],
   "source": [
    "spark.udf.register(\"stringLength\", (s: String) => s.length())\n",
    "spark.sql(\"SELECT stringLength('test')\").collect()"
   ]
  },
  {
   "cell_type": "code",
   "execution_count": 10,
   "metadata": {},
   "outputs": [
    {
     "name": "stdout",
     "output_type": "stream",
     "text": [
      "+------+---+\n",
      "|  name|age|\n",
      "+------+---+\n",
      "|   Max| 33|\n",
      "|  Adam| 32|\n",
      "|Muller| 62|\n",
      "+------+---+\n",
      "\n"
     ]
    }
   ],
   "source": [
    "import spark.sqlContext.implicits._\n",
    "case class Person(name: String, age: Int)\n",
    "\n",
    "val personDS = Seq(Person(\"Max\", 33), Person(\"Adam\", 32), Person(\"Muller\", 62)).toDS()\n",
    "personDS.show()"
   ]
  },
  {
   "cell_type": "code",
   "execution_count": 3,
   "metadata": {},
   "outputs": [
    {
     "name": "stdout",
     "output_type": "stream",
     "text": [
      "+----------+\n",
      "|sum_of_age|\n",
      "+----------+\n",
      "|       127|\n",
      "+----------+\n",
      "\n"
     ]
    }
   ],
   "source": [
    "import org.apache.spark.sql.functions._\n",
    "personDS.groupBy().agg(sum(\"age\").as(\"sum_of_age\")).show()"
   ]
  }
 ],
 "metadata": {
  "kernelspec": {
   "display_name": "Apache Toree - Scala",
   "language": "scala",
   "name": "apache_toree_scala"
  },
  "language_info": {
   "file_extension": ".scala",
   "name": "scala",
   "version": "2.11.8"
  }
 },
 "nbformat": 4,
 "nbformat_minor": 2
}
